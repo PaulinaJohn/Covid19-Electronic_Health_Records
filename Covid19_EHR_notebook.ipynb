{
  "nbformat": 4,
  "nbformat_minor": 0,
  "metadata": {
    "colab": {
      "provenance": [],
      "collapsed_sections": [],
      "authorship_tag": "ABX9TyMVYE4LpbxNCRCWU8TF7V+R",
      "include_colab_link": true
    },
    "kernelspec": {
      "name": "python3",
      "display_name": "Python 3"
    },
    "language_info": {
      "name": "python"
    }
  },
  "cells": [
    {
      "cell_type": "markdown",
      "metadata": {
        "id": "view-in-github",
        "colab_type": "text"
      },
      "source": [
        "<a href=\"https://colab.research.google.com/github/PaulinaJohn/Covid19-Electronic_Health_Records_program/blob/main/Covid19_EHR_notebook.ipynb\" target=\"_parent\"><img src=\"https://colab.research.google.com/assets/colab-badge.svg\" alt=\"Open In Colab\"/></a>"
      ]
    },
    {
      "cell_type": "code",
      "execution_count": 70,
      "metadata": {
        "id": "w7BSq4YxBJeq"
      },
      "outputs": [],
      "source": [
        "# This program collects\n",
        "class Person:\n",
        "  def __init__(self, name, age, gender):\n",
        "    self.name = name\n",
        "    self.age = age\n",
        "    self.gender = gender"
      ]
    },
    {
      "cell_type": "code",
      "source": [
        "class Patient(Person):\n",
        "  def __init__(self, patient_id, name, age, gender, temperature, pulse_rate, weight, blood_pressure, sugar_level):\n",
        "    super().__init__(name, age, gender)\n",
        "    self.patient_id = patient_id\n",
        "    self.temperature = temperature\n",
        "    self.pulse_rate = pulse_rate\n",
        "    self.weight = weight\n",
        "    self.blood_pressure = blood_pressure\n",
        "    self.sugar_level = sugar_level\n",
        "    \n",
        "  def show_Menu(self):\n",
        "    id = int(input(\"Enter patient_id: \"))\n",
        "    #for id in range(1, 90):\n",
        "    if id in range(1, 90):\n",
        "      print(f\"Welcome to {self.name}'s account\")\n",
        "      print(\"1- temperature \\t 2- pulse_rate\")\n",
        "      print(\"3- weight \\t 4- blood pressure\")\n",
        "      print(\"5- sugar level\")\n",
        "      else:\n",
        "          int(input(\"Invalid Id; try again: \"))"
      ],
      "metadata": {
        "id": "H7kDU4_fJrSR"
      },
      "execution_count": 96,
      "outputs": []
    },
    {
      "cell_type": "code",
      "source": [
        "a = Patient(\"a1\", \"dinga\", 37, \"F\", \"23C\", 32, \"50kg\", 82, 76)"
      ],
      "metadata": {
        "id": "B7ekC2klI_z5"
      },
      "execution_count": 97,
      "outputs": []
    },
    {
      "cell_type": "code",
      "source": [
        "a.show_Menu()"
      ],
      "metadata": {
        "id": "OWxEuE_IZkxI"
      },
      "execution_count": null,
      "outputs": []
    },
    {
      "cell_type": "code",
      "source": [],
      "metadata": {
        "id": "NWCo1qpZNEMs"
      },
      "execution_count": 93,
      "outputs": []
    },
    {
      "cell_type": "code",
      "source": [],
      "metadata": {
        "id": "L09D_ZCoCH_T"
      },
      "execution_count": null,
      "outputs": []
    },
    {
      "cell_type": "code",
      "source": [],
      "metadata": {
        "id": "ZSzY0A1UBRdY"
      },
      "execution_count": null,
      "outputs": []
    }
  ]
}