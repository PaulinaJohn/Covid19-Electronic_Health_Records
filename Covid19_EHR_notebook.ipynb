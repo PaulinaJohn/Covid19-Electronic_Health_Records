{
  "nbformat": 4,
  "nbformat_minor": 0,
  "metadata": {
    "colab": {
      "provenance": [],
      "collapsed_sections": [],
      "include_colab_link": true
    },
    "kernelspec": {
      "name": "python3",
      "display_name": "Python 3"
    },
    "language_info": {
      "name": "python"
    }
  },
  "cells": [
    {
      "cell_type": "markdown",
      "metadata": {
        "id": "view-in-github",
        "colab_type": "text"
      },
      "source": [
        "<a href=\"https://colab.research.google.com/github/PaulinaJohn/Covid19-Electronic_Health_Records_program/blob/main/Covid19_EHR_notebook.ipynb\" target=\"_parent\"><img src=\"https://colab.research.google.com/assets/colab-badge.svg\" alt=\"Open In Colab\"/></a>"
      ]
    },
    {
      "cell_type": "code",
      "execution_count": null,
      "metadata": {
        "id": "w7BSq4YxBJeq"
      },
      "outputs": [],
      "source": [
        "# This program displays vital information from outpatients in the hospital\n",
        "class Person:\n",
        "  def __init__(self, name, age, gender):\n",
        "    self.name = name\n",
        "    self.age = age\n",
        "    self.gender = gender"
      ]
    },
    {
      "cell_type": "code",
      "source": [
        "class Patient(Person):\n",
        "  def __init__(self, patient_id, name, age, gender, temperature, pulse_rate, weight, blood_pressure, sugar_level):\n",
        "    super().__init__(name, age, gender)\n",
        "    self.patient_id = patient_id\n",
        "    self.temperature = temperature\n",
        "    self.pulse_rate = pulse_rate\n",
        "    self.weight = weight\n",
        "    self.blood_pressure = blood_pressure\n",
        "    self.sugar_level = sugar_level\n",
        "    \n",
        "  def show_Menu(self):\n",
        "    id = int(input(\"Enter patient_id: \"))\n",
        "                                                        # [0, 3[ Practitioner cannot try more than 3 times      \n",
        "    if id != self.patient_id:\n",
        "      for count in range(3):\n",
        "        int(input(\"Invalid Id Patient_details. Try again: \"))\n",
        "    else:\n",
        "      print(f\"Welcome to {self.name}'s account. What do you want to do?\")\n",
        "      print(\"1- get temperature \\t 2- get pulse_rate\")\n",
        "      print(\"3- get weight \\t      4- get blood pressure\")\n",
        "      print(\"5- get sugar level\")\n",
        "      \n",
        "              \n",
        "  def get_temperature(self):                  \n",
        "    print(f\"{self.name}'s body temeperature is: {self.temperature} degree Celcius\")\n",
        "    if self.temperature <= 38:     # according to the CDC- \n",
        "       print(f\"While {self.name} appears to be recovering well, you may consider other vitals\")\n",
        "    else:\n",
        "      print(\"Initiate next course of action!\")\n",
        "      \n",
        "# you can use this pattern to go ahead and create your own functions"
      ],
      "metadata": {
        "id": "H7kDU4_fJrSR"
      },
      "execution_count": 142,
      "outputs": []
    },
    {
      "cell_type": "markdown",
      "source": [
        "https://www.cdc.gov/quarantine/air/reporting-deaths-illness/definitions-symptoms-reportable-illnesses.html#:~:text=CDC%20considers%20a%20person%20to,history%20of%20feeling%20feverish."
      ],
      "metadata": {
        "id": "kCMpdAaeAIh5"
      }
    },
    {
      "cell_type": "code",
      "source": [
        "Dinga = Patient(1, \"Dinga\", 37, \"M\", 23, 32, 50, 82, 76)"
      ],
      "metadata": {
        "id": "B7ekC2klI_z5"
      },
      "execution_count": 143,
      "outputs": []
    },
    {
      "cell_type": "code",
      "source": [
        "Dinga.get_temperature()"
      ],
      "metadata": {
        "id": "OWxEuE_IZkxI",
        "colab": {
          "base_uri": "https://localhost:8080/"
        },
        "outputId": "62dff293-bbc7-474c-97d7-56c26fcd4402"
      },
      "execution_count": 144,
      "outputs": [
        {
          "output_type": "stream",
          "name": "stdout",
          "text": [
            "Dinga's body temeperature is: 23 degree Celcius\n",
            "While Dinga appears to be recovering well, you may consider other vitals\n"
          ]
        }
      ]
    },
    {
      "cell_type": "code",
      "source": [
        "Plembo = Patient(3, \"Plembo\", 59, \"F\", 39, 21, 50, 131, 97)"
      ],
      "metadata": {
        "id": "NWCo1qpZNEMs"
      },
      "execution_count": null,
      "outputs": []
    },
    {
      "cell_type": "code",
      "source": [
        "Plembo.get_temperature()"
      ],
      "metadata": {
        "id": "L09D_ZCoCH_T",
        "colab": {
          "base_uri": "https://localhost:8080/"
        },
        "outputId": "20ab66f0-693d-4ed2-f4af-a4d1848688af"
      },
      "execution_count": 145,
      "outputs": [
        {
          "output_type": "stream",
          "name": "stdout",
          "text": [
            "Plembo's body temeperature is: 39 degree Celcius\n",
            "Initiate next course of action\n"
          ]
        }
      ]
    },
    {
      "cell_type": "code",
      "source": [],
      "metadata": {
        "id": "ZSzY0A1UBRdY"
      },
      "execution_count": null,
      "outputs": []
    }
  ]
}