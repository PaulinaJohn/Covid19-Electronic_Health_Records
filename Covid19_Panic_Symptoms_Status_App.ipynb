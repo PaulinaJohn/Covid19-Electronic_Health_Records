{
  "nbformat": 4,
  "nbformat_minor": 0,
  "metadata": {
    "colab": {
      "provenance": [],
      "collapsed_sections": [],
      "include_colab_link": true
    },
    "kernelspec": {
      "name": "python3",
      "display_name": "Python 3"
    },
    "language_info": {
      "name": "python"
    }
  },
  "cells": [
    {
      "cell_type": "markdown",
      "metadata": {
        "id": "view-in-github",
        "colab_type": "text"
      },
      "source": [
        "<a href=\"https://colab.research.google.com/github/PaulinaJohn/Covid19-Panic_Symptoms_Status_App_OOP/blob/main/Covid19_Panic_Symptoms_Status_App.ipynb\" target=\"_parent\"><img src=\"https://colab.research.google.com/assets/colab-badge.svg\" alt=\"Open In Colab\"/></a>"
      ]
    },
    {
      "cell_type": "markdown",
      "source": [
        "#### Covid19_Panic_Symptom_Status_App"
      ],
      "metadata": {
        "id": "NzL4xb2JDp11"
      }
    },
    {
      "cell_type": "markdown",
      "source": [
        "This program displays and updates vitals; such as body temperature, pulse_rate, oxygen level of individuals who have been infected with Covid19, for monitoring purposes. It also helps to identify panic symptoms that may indicate that an unconfirmed person might be carrying the virus."
      ],
      "metadata": {
        "id": "4I4Pp5CN5z72"
      }
    },
    {
      "cell_type": "code",
      "execution_count": 103,
      "metadata": {
        "id": "w7BSq4YxBJeq"
      },
      "outputs": [],
      "source": [
        "# Creating the main class: person\n",
        "\n",
        "class Person:\n",
        "  def __init__(self, name, age, gender):\n",
        "    self.name = name\n",
        "    self.age = age\n",
        "    self.gender = gender"
      ]
    },
    {
      "cell_type": "code",
      "source": [
        "# Creating a subclass: Patient\n",
        "\n",
        "class Patient(Person):\n",
        "  def __init__(self, patient_id, name, age, gender, temperature, pulse_rate, oxygen_level):\n",
        "    super().__init__(name, age, gender)\n",
        "    self.patient_id = patient_id\n",
        "    self.temperature = temperature\n",
        "    self.pulse_rate = pulse_rate\n",
        "    self.oxygen_level = oxygen_level\n",
        "    \n",
        "  # Defining set and get methods.\n",
        "  def show_Menu(self):\n",
        "    id = int(input(\"Enter patient_id: \"))\n",
        "                                                \n",
        "    if id == self.patient_id:             #Checks if id entered by user matches patient_id in the records\n",
        "      print(f\"Welcome to {self.name}'s account. What do you want to do?\")\n",
        "      print(\"1- get vitals \\t 2- update vitals\")\n",
        "      \n",
        "      choice = int(input(\"make a choice: \"))\n",
        "      if choice == 1:\n",
        "        print(\"1- get temperature \\t   2- get pulse_rate\") \n",
        "        print(\"3- get oxygen level\")\n",
        "        \n",
        "        get_option = int(input(\"Enter your option: \"))\n",
        "        if get_option == 1:\n",
        "          self.get_temperature()\n",
        "        elif get_option == 2:\n",
        "          self.get_pulse_rate()\n",
        "        elif get_option == 3:\n",
        "          self.get_oxygen_level()\n",
        "        else:\n",
        "          print(\"option out of range\")\n",
        "          \n",
        "\n",
        "      elif choice == 2:\n",
        "        print(\"1- update temperature \\t   2- update pulse_rate\") \n",
        "        print(\"3- update oxygen rate\")\n",
        "\n",
        "        set_option = int(input(\"Enter your option: \"))\n",
        "        if set_option == 1:\n",
        "          self.set_temperature()\n",
        "        elif set_option == 2:\n",
        "          self.set_pulse_rate()\n",
        "        elif set_option == 3:\n",
        "          self.set_oxygen_level()\n",
        "        else:\n",
        "          print(\"option out of range\")\n",
        "      else:\n",
        "        print(\"invalid entry\")\n",
        "    else:\n",
        "      print(\"Invalid patient_id\")\n",
        "                                  \n",
        "                                  \n",
        "  def get_temperature(self):                  \n",
        "    if self.temperature <= 38:\n",
        "       print(f\"{self.name}'s body temeperature is: {self.temperature} degree Celsius\")\n",
        "    else:\n",
        "      print(f\"{self.name}'s body temeperature is: {self.temperature} degree Celsius!\")      #note the exclamation mark- panic value!\n",
        "\n",
        "  def set_temperature(self):\n",
        "    new_temp = float(input(\"Enter new temperature: \"))                \n",
        "    if new_temp != self.temperature:\n",
        "      self.temperature = new_temp\n",
        "      print(f\"{self.name}'s new body temeperature is: {self.temperature} degree Celsius\")\n",
        "\n",
        "\n",
        "  def get_pulse_rate(self):         \n",
        "    if self.pulse_rate >= 40 or self.pulse_rate <= 100:\n",
        "      print(f\"{self.name}'s age is {self.age} and pulse_rate is: {self.pulse_rate} bpm\")      #bpm - beats per minute\n",
        "    else:\n",
        "      print(f\"{self.name}'s age is {self.age} and pulse_rate is: {self.pulse_rate} bpm!\")     #note the exclamation mark- panic value!\n",
        "\n",
        "  def set_pulse_rate(self):\n",
        "    new_pulse = int(input(\"Enter new pulse rate: \"))                \n",
        "    if new_pulse != self.pulse_rate:\n",
        "      self.pulse_rate = new_pulse\n",
        "      print(f\"{self.name}'s new pulse_rate is: {self.pulse_rate} bpm\")                    \n",
        "\n",
        "  def get_oxygen_level(self):         \n",
        "    if self.oxygen_level >= 95:  \n",
        "      print(f\"{self.name}'s oxygen level is: {self.oxygen_level}%\")\n",
        "    else:\n",
        "      print(f\"{self.name}'s oxygen level is: {self.oxygen_level}%!\")              #note the exclamation mark- panic value!\n",
        "\n",
        "  def set_oxygen_level(self):\n",
        "    new_oxygen_level = float(input(\"Enter new pulse rate: \"))                \n",
        "    if new_oxygen_level != self.oxygen_level:\n",
        "      self.oxygen_level = new_oxygen_level\n",
        "      print(f\"{self.name}'s new pulse_rate is: {self.oxygen_level}%\")\n"
      ],
      "metadata": {
        "id": "H7kDU4_fJrSR"
      },
      "execution_count": 104,
      "outputs": []
    },
    {
      "cell_type": "code",
      "source": [
        "# Creating a Patient instance\n",
        "\n",
        "dinga = Patient(1, \"Dinga\", 37, \"M\", 39.1, 62, 91)"
      ],
      "metadata": {
        "id": "B7ekC2klI_z5"
      },
      "execution_count": 105,
      "outputs": []
    },
    {
      "cell_type": "code",
      "source": [
        "# Calling the show_Menu method\n",
        "dinga.show_Menu()"
      ],
      "metadata": {
        "id": "OWxEuE_IZkxI",
        "colab": {
          "base_uri": "https://localhost:8080/"
        },
        "outputId": "2c15d25f-25a4-4560-adf2-1c2abf32ba8a"
      },
      "execution_count": 109,
      "outputs": [
        {
          "output_type": "stream",
          "name": "stdout",
          "text": [
            "Enter patient_id: 1\n",
            "Welcome to Dinga's account. What do you want to do?\n",
            "1- get vitals \t 2- update vitals\n",
            "make a choice: 1\n",
            "1- get temperature \t   2- get pulse_rate\n",
            "3- get oxygen level\n",
            "Enter your option: 3\n",
            "Dinga's oxygen level is: 91%!\n"
          ]
        }
      ]
    },
    {
      "cell_type": "code",
      "source": [
        "# Creating a Patient instance\n",
        "\n",
        "plembo = Patient(3, \"Plembo\", 68, \"F\", 37.5, 93, 103)"
      ],
      "metadata": {
        "id": "NWCo1qpZNEMs"
      },
      "execution_count": 107,
      "outputs": []
    },
    {
      "cell_type": "code",
      "source": [
        "# Calling the show_Menu() method\n",
        "plembo.show_Menu()"
      ],
      "metadata": {
        "id": "L09D_ZCoCH_T",
        "colab": {
          "base_uri": "https://localhost:8080/"
        },
        "outputId": "0e66dbca-a15a-448f-c74d-b9743817e4c6"
      },
      "execution_count": 111,
      "outputs": [
        {
          "output_type": "stream",
          "name": "stdout",
          "text": [
            "Enter patient_id: 3\n",
            "Welcome to Plembo's account. What do you want to do?\n",
            "1- get vitals \t 2- update vitals\n",
            "make a choice: 2\n",
            "1- update temperature \t   2- update pulse_rate\n",
            "3- update oxygen rate\n",
            "Enter your option: 2\n",
            "Enter new pulse rate: 82\n",
            "Plembo's new pulse_rate is: 82 bpm\n"
          ]
        }
      ]
    }
  ]
}