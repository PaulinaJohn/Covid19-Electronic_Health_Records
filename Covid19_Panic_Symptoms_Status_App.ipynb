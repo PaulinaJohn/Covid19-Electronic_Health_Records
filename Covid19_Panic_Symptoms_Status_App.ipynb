{
  "nbformat": 4,
  "nbformat_minor": 0,
  "metadata": {
    "colab": {
      "provenance": [],
      "collapsed_sections": [],
      "include_colab_link": true
    },
    "kernelspec": {
      "name": "python3",
      "display_name": "Python 3"
    },
    "language_info": {
      "name": "python"
    }
  },
  "cells": [
    {
      "cell_type": "markdown",
      "metadata": {
        "id": "view-in-github",
        "colab_type": "text"
      },
      "source": [
        "<a href=\"https://colab.research.google.com/github/PaulinaJohn/Covid19-Electronic_Health_Records_program/blob/main/Covid19_Panic_Symptoms_Status_App.ipynb\" target=\"_parent\"><img src=\"https://colab.research.google.com/assets/colab-badge.svg\" alt=\"Open In Colab\"/></a>"
      ]
    },
    {
      "cell_type": "code",
      "execution_count": 62,
      "metadata": {
        "id": "w7BSq4YxBJeq"
      },
      "outputs": [],
      "source": [
        "# This program displays vital information from outpatients in the hospital\n",
        "class Person:\n",
        "  def __init__(self, name, age, gender):\n",
        "    self.name = name\n",
        "    self.age = age\n",
        "    self.gender = gender"
      ]
    },
    {
      "cell_type": "code",
      "source": [
        "class Patient(Person):\n",
        "  def __init__(self, patient_id, name, age, gender, temperature, pulse_rate, oxygen_level):\n",
        "    super().__init__(name, age, gender)\n",
        "    self.patient_id = patient_id\n",
        "    self.temperature = temperature\n",
        "    self.pulse_rate = pulse_rate\n",
        "    self.oxygen_level = oxygen_level\n",
        "    \n",
        "    \n",
        "  def show_Menu(self):\n",
        "    id = int(input(\"Enter patient_id: \"))\n",
        "                                                        # [0, 3[ Practitioner cannot try more than 3 times   for count in range(3):  \n",
        "    if id == self.patient_id:\n",
        "      print(f\"Welcome to {self.name}'s account. What do you want to do?\")\n",
        "      print(\"1- get vitals \\t 2- update vitals\")\n",
        "      \n",
        "      choice = int(input(\"make a choice: \\n\"))\n",
        "      if choice == 1:\n",
        "        print(\"1- get temperature \\t     2- get pulse_rate\") \n",
        "        print(\"3- get oxygen level\")\n",
        "        \n",
        "        get_option = int(input(\"Enter your option: \"))\n",
        "        if get_option == 1:\n",
        "          self.get_temperature()\n",
        "        elif get_option == 2:\n",
        "          self.get_pulse_rate()\n",
        "        elif get_option == 3:\n",
        "          self.get_oxygen_level()\n",
        "\n",
        "      elif choice == 2:\n",
        "        print(\"1- update temperature \\t   2- update pulse_rate\") \n",
        "        print(\"3- update oxygen rate\")\n",
        "\n",
        "        set_option = int(input(\"Enter your option: \"))\n",
        "        if set_option == 1:\n",
        "          self.set_temperature()\n",
        "        elif set_option == 2:\n",
        "          self.set_pulse_rate()\n",
        "        elif set_option == 3:\n",
        "          self.set_oxygen_level()\n",
        "      else:\n",
        "        print(\"invalid entry\")\n",
        "    else:\n",
        "      print(\"Invalid patient_id\")\n",
        "                    # I feel this should be print- Yes, there's something I am trying here. \n",
        "                                  # I am trying to write the code in a way that it keeps running until the user gets the id right\n",
        "                                  \n",
        "                                  \n",
        "  def get_temperature(self):                  \n",
        "    if self.temperature <= 38:     # according to the CDC- \n",
        "       print(f\"{self.name}'s body temeperature is: {self.temperature} degree Celsius\")\n",
        "    else:\n",
        "      print(f\"{self.name}'s body temeperature is: {self.temperature} degree Celsius!\")      # note the exclamation mark!\n",
        "\n",
        "  def set_temperature(self):\n",
        "    new_temp = float(input(\"Enter new temperature: \"))                \n",
        "    if new_temp != self.temperature:\n",
        "      self.temperature = new_temp\n",
        "      print(f\"{self.name}'s new body temeperature is: {self.temperature} degree Celsius\")\n",
        "\n",
        "\n",
        "  def get_pulse_rate(self):         \n",
        "    # # according to the CDC- normal pulse rate is age dependent and the lower the better. For age<18, 100-180\n",
        "    # for  age> 18, 60 - 100 \n",
        "    if self.pulse_rate in range(60, 101):  \n",
        "      print(f\"{self.name}'s age is {self.age} and pulse_rate is: {self.pulse_rate} bpm\")\n",
        "    else:\n",
        "      print(f\"{self.name}'s age is {self.age} and pulse_rate is: {self.pulse_rate} bpm!\")     #note the exclamation mark here- panic value\n",
        "\n",
        "  def set_pulse_rate(self):\n",
        "    new_pulse = float(input(\"Enter new pulse rate: \"))                \n",
        "    if new_pulse != self.pulse_rate:\n",
        "      self.pulse_rate = new_pulse\n",
        "      print(f\"{self.name}'s new pulse_rate is: {self.pulse_rate} bpm\")\n",
        "\n",
        "  def get_oxygen_level(self):         \n",
        "    if self.oxygen_level >= 95:  \n",
        "      print(f\"{self.name}'s oxygen level is: {self.oxygen_level}%\")\n",
        "    else:\n",
        "      print(f\"{self.name}'s oxygen level is: {self.oxygen_level}%!\")       \n",
        "\n",
        "  def set_oxygen_level(self):\n",
        "    new_oxygen_level = float(input(\"Enter new pulse rate: \"))                \n",
        "    if new_oxygen_level != self.oxygen_level:\n",
        "      self.oxygen_level = new_oxygen_level\n",
        "      print(f\"{self.name}'s new pulse_rate is: {self.oxygen_level}%\")\n"
      ],
      "metadata": {
        "id": "H7kDU4_fJrSR"
      },
      "execution_count": 63,
      "outputs": []
    },
    {
      "cell_type": "code",
      "source": [
        "\n"
      ],
      "metadata": {
        "id": "8GeW4nwStKbG"
      },
      "execution_count": 63,
      "outputs": []
    },
    {
      "cell_type": "markdown",
      "source": [
        "https://www.cdc.gov/quarantine/air/reporting-deaths-illness/definitions-symptoms-reportable-illnesses.html#:~:text=CDC%20considers%20a%20person%20to,history%20of%20feeling%20feverish."
      ],
      "metadata": {
        "id": "kCMpdAaeAIh5"
      }
    },
    {
      "cell_type": "code",
      "source": [
        "dinga = Patient(1, \"Dinga\", 37, \"M\", 23, 32, 50, 82, 76, 45, 3)"
      ],
      "metadata": {
        "id": "B7ekC2klI_z5",
        "colab": {
          "base_uri": "https://localhost:8080/",
          "height": 166
        },
        "outputId": "650a6c2e-e0d7-4f85-ac73-09b4a2b30f4b"
      },
      "execution_count": 64,
      "outputs": [
        {
          "output_type": "error",
          "ename": "TypeError",
          "evalue": "ignored",
          "traceback": [
            "\u001b[0;31m---------------------------------------------------------------------------\u001b[0m",
            "\u001b[0;31mTypeError\u001b[0m                                 Traceback (most recent call last)",
            "\u001b[0;32m<ipython-input-64-24d7195f00fd>\u001b[0m in \u001b[0;36m<module>\u001b[0;34m\u001b[0m\n\u001b[0;32m----> 1\u001b[0;31m \u001b[0mdinga\u001b[0m \u001b[0;34m=\u001b[0m \u001b[0mPatient\u001b[0m\u001b[0;34m(\u001b[0m\u001b[0;36m1\u001b[0m\u001b[0;34m,\u001b[0m \u001b[0;34m\"Dinga\"\u001b[0m\u001b[0;34m,\u001b[0m \u001b[0;36m37\u001b[0m\u001b[0;34m,\u001b[0m \u001b[0;34m\"M\"\u001b[0m\u001b[0;34m,\u001b[0m \u001b[0;36m23\u001b[0m\u001b[0;34m,\u001b[0m \u001b[0;36m32\u001b[0m\u001b[0;34m,\u001b[0m \u001b[0;36m50\u001b[0m\u001b[0;34m,\u001b[0m \u001b[0;36m82\u001b[0m\u001b[0;34m,\u001b[0m \u001b[0;36m76\u001b[0m\u001b[0;34m,\u001b[0m \u001b[0;36m45\u001b[0m\u001b[0;34m,\u001b[0m \u001b[0;36m3\u001b[0m\u001b[0;34m)\u001b[0m\u001b[0;34m\u001b[0m\u001b[0;34m\u001b[0m\u001b[0m\n\u001b[0m",
            "\u001b[0;31mTypeError\u001b[0m: __init__() takes 8 positional arguments but 12 were given"
          ]
        }
      ]
    },
    {
      "cell_type": "code",
      "source": [
        "dinga.get_temperature()"
      ],
      "metadata": {
        "id": "OWxEuE_IZkxI"
      },
      "execution_count": null,
      "outputs": []
    },
    {
      "cell_type": "code",
      "source": [
        "plembo = Patient(3, \"Plembo\", 59, \"F\", 39, 21, 50, 131, 97, 39.7, 17)"
      ],
      "metadata": {
        "id": "NWCo1qpZNEMs"
      },
      "execution_count": null,
      "outputs": []
    },
    {
      "cell_type": "code",
      "source": [
        "plembo.get_temperature()"
      ],
      "metadata": {
        "id": "L09D_ZCoCH_T"
      },
      "execution_count": null,
      "outputs": []
    },
    {
      "cell_type": "code",
      "source": [
        "#dinga.show_Menu()"
      ],
      "metadata": {
        "id": "ZSzY0A1UBRdY"
      },
      "execution_count": null,
      "outputs": []
    },
    {
      "cell_type": "code",
      "source": [
        "#dinga.get_temperature()"
      ],
      "metadata": {
        "id": "dw3QJvuveuq-"
      },
      "execution_count": null,
      "outputs": []
    },
    {
      "cell_type": "code",
      "source": [
        "dinga.get_pulse_rate()"
      ],
      "metadata": {
        "colab": {
          "base_uri": "https://localhost:8080/",
          "height": 166
        },
        "id": "v4xIZ6-jg5kd",
        "outputId": "5ff29ed9-0a3d-4ed8-97c5-312081fdcec9"
      },
      "execution_count": 65,
      "outputs": [
        {
          "output_type": "error",
          "ename": "AttributeError",
          "evalue": "ignored",
          "traceback": [
            "\u001b[0;31m---------------------------------------------------------------------------\u001b[0m",
            "\u001b[0;31mAttributeError\u001b[0m                            Traceback (most recent call last)",
            "\u001b[0;32m<ipython-input-65-f14bc8ab4a9e>\u001b[0m in \u001b[0;36m<module>\u001b[0;34m\u001b[0m\n\u001b[0;32m----> 1\u001b[0;31m \u001b[0mdinga\u001b[0m\u001b[0;34m.\u001b[0m\u001b[0mget_pulse_rate\u001b[0m\u001b[0;34m(\u001b[0m\u001b[0;34m)\u001b[0m\u001b[0;34m\u001b[0m\u001b[0;34m\u001b[0m\u001b[0m\n\u001b[0m",
            "\u001b[0;31mAttributeError\u001b[0m: 'Patient' object has no attribute 'get_pulse_rate'"
          ]
        }
      ]
    }
  ]
}